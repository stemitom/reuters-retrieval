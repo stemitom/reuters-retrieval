{
 "cells": [
  {
   "cell_type": "code",
   "execution_count": null,
   "metadata": {},
   "outputs": [
    {
     "ename": "Error",
     "evalue": "Kernel is dead",
     "output_type": "error",
     "traceback": [
      "Error: Kernel is dead",
      "at f._sendKernelShellControl (/home/stemitom/.vscode/extensions/ms-toolsai.jupyter-2021.9.1101343141/out/client/node_modules/@jupyterlab/services.js:3:431671)",
      "at f.sendShellMessage (/home/stemitom/.vscode/extensions/ms-toolsai.jupyter-2021.9.1101343141/out/client/node_modules/@jupyterlab/services.js:3:431440)",
      "at f.requestExecute (/home/stemitom/.vscode/extensions/ms-toolsai.jupyter-2021.9.1101343141/out/client/node_modules/@jupyterlab/services.js:3:433992)",
      "at _.requestExecute (/home/stemitom/.vscode/extensions/ms-toolsai.jupyter-2021.9.1101343141/out/client/extension.js:32:19306)",
      "at w.executeCodeCell (/home/stemitom/.vscode/extensions/ms-toolsai.jupyter-2021.9.1101343141/out/client/extension.js:52:300924)",
      "at w.execute (/home/stemitom/.vscode/extensions/ms-toolsai.jupyter-2021.9.1101343141/out/client/extension.js:52:300551)",
      "at w.start (/home/stemitom/.vscode/extensions/ms-toolsai.jupyter-2021.9.1101343141/out/client/extension.js:52:296215)",
      "at runMicrotasks (<anonymous>)",
      "at processTicksAndRejections (internal/process/task_queues.js:93:5)",
      "at async t.CellExecutionQueue.executeQueuedCells (/home/stemitom/.vscode/extensions/ms-toolsai.jupyter-2021.9.1101343141/out/client/extension.js:52:310950)",
      "at async t.CellExecutionQueue.start (/home/stemitom/.vscode/extensions/ms-toolsai.jupyter-2021.9.1101343141/out/client/extension.js:52:310490)"
     ]
    }
   ],
   "source": [
    "import os"
   ]
  },
  {
   "cell_type": "code",
   "execution_count": null,
   "metadata": {},
   "outputs": [],
   "source": [
    "data_path = \"./reuters-retrieval/data/Reuters21578-Apte-90Cat/\"\n",
    "training_path = os.path.join(data_path, \"training\")\n",
    "test_path = os.path.join(data_path, \"test\")\n"
   ]
  },
  {
   "cell_type": "code",
   "execution_count": null,
   "metadata": {},
   "outputs": [
    {
     "name": "stdout",
     "output_type": "stream",
     "text": [
      "\n",
      "\n",
      "COMPUTER TERMINAL SYSTEMS <CPML> COMPLETES SALE\n",
      "\n",
      "     COMMACK, N.Y., Feb 26 - Computer Terminal Systems Inc said\n",
      "it has completed the sale of 200,000 shares of its common\n",
      "stock, and warrants to acquire an additional one mln shares, to\n",
      "<Sedio N.V.> of Lugano, Switzerland for 50,000 dlrs.\n",
      "    The company said the warrants are exercisable for five\n",
      "years at a purchase price of .125 dlrs per share.\n",
      "    Computer Terminal said Sedio also has the right to buy\n",
      "additional shares and increase its total holdings up to 40 pct\n",
      "of the Computer Terminal's outstanding common stock under\n",
      "certain circumstances involving change of control at the\n",
      "company.\n",
      "    The company said if the conditions occur the warrants would\n",
      "be exercisable at a price equal to 75 pct of its common stock's\n",
      "market price at the time, not to exceed 1.50 dlrs per share.\n",
      "    Computer Terminal also said it sold the technolgy rights to\n",
      "its Dot Matrix impact technology, including any future\n",
      "improvements, to <Woodco Inc> of Houston, Tex. for 200,000\n",
      "dlrs. But, it said it would continue to be the exclusive\n",
      "worldwide licensee of the technology for Woodco.\n",
      "    The company said the moves were part of its reorganization\n",
      "plan and would help pay current operation costs and ensure\n",
      "product delivery.\n",
      "    Computer Terminal makes computer generated labels, forms,\n",
      "tags and ticket printers and terminals.\n",
      "\n",
      "\n"
     ]
    }
   ],
   "source": [
    "sample_message = os.path.join(training_path, \"acq\", \"0000005\")\n",
    "with open(sample_message, \"r\") as file:\n",
    "    buffer = file.read()\n",
    "    print(buffer)"
   ]
  },
  {
   "cell_type": "code",
   "execution_count": null,
   "metadata": {},
   "outputs": [
    {
     "name": "stdout",
     "output_type": "stream",
     "text": [
      "['acq', 'alum', 'barley', 'bop', 'carcass', 'castor-oil', 'cocoa', 'coconut', 'coconut-oil', 'coffee', 'copper', 'copra-cake', 'corn', 'cotton', 'cotton-oil', 'cpi', 'cpu', 'crude', 'dfl', 'dlr', 'dmk', 'earn', 'fuel', 'gas', 'gnp', 'gold', 'grain', 'groundnut', 'groundnut-oil', 'heat', 'hog', 'housing', 'income', 'instal-debt', 'interest', 'ipi', 'iron-steel', 'jet', 'jobs', 'l-cattle', 'lead', 'lei', 'lin-oil', 'livestock', 'lumber', 'meal-feed', 'money-fx', 'money-supply', 'naphtha', 'nat-gas', 'nickel', 'nkr', 'nzdlr', 'oat', 'oilseed', 'orange', 'palladium', 'palm-oil', 'palmkernel', 'pet-chem', 'platinum', 'potato', 'propane', 'rand', 'rape-oil', 'rapeseed', 'reserves', 'retail', 'rice', 'rubber', 'rye', 'ship', 'silver', 'sorghum', 'soy-meal', 'soy-oil', 'soybean', 'strategic-metal', 'sugar', 'sun-meal', 'sun-oil', 'sunseed', 'tea', 'tin', 'trade', 'unknown', 'veg-oil', 'wheat', 'wpi', 'yen', 'zinc']\n"
     ]
    }
   ],
   "source": [
    "categories = [category for category in os.listdir(training_path)]\n",
    "print(categories)"
   ]
  },
  {
   "cell_type": "code",
   "execution_count": null,
   "metadata": {},
   "outputs": [
    {
     "ename": "Error",
     "evalue": "Kernel is dead",
     "output_type": "error",
     "traceback": [
      "Error: Kernel is dead",
      "at f._sendKernelShellControl (/home/stemitom/.vscode/extensions/ms-toolsai.jupyter-2021.9.1101343141/out/client/node_modules/@jupyterlab/services.js:3:431671)",
      "at f.sendShellMessage (/home/stemitom/.vscode/extensions/ms-toolsai.jupyter-2021.9.1101343141/out/client/node_modules/@jupyterlab/services.js:3:431440)",
      "at f.requestExecute (/home/stemitom/.vscode/extensions/ms-toolsai.jupyter-2021.9.1101343141/out/client/node_modules/@jupyterlab/services.js:3:433992)",
      "at _.requestExecute (/home/stemitom/.vscode/extensions/ms-toolsai.jupyter-2021.9.1101343141/out/client/extension.js:32:19306)",
      "at w.executeCodeCell (/home/stemitom/.vscode/extensions/ms-toolsai.jupyter-2021.9.1101343141/out/client/extension.js:52:300924)",
      "at w.execute (/home/stemitom/.vscode/extensions/ms-toolsai.jupyter-2021.9.1101343141/out/client/extension.js:52:300551)",
      "at w.start (/home/stemitom/.vscode/extensions/ms-toolsai.jupyter-2021.9.1101343141/out/client/extension.js:52:296215)",
      "at runMicrotasks (<anonymous>)",
      "at processTicksAndRejections (internal/process/task_queues.js:93:5)",
      "at async t.CellExecutionQueue.executeQueuedCells (/home/stemitom/.vscode/extensions/ms-toolsai.jupyter-2021.9.1101343141/out/client/extension.js:52:310950)",
      "at async t.CellExecutionQueue.start (/home/stemitom/.vscode/extensions/ms-toolsai.jupyter-2021.9.1101343141/out/client/extension.js:52:310490)"
     ]
    }
   ],
   "source": [
    "import re\n",
    "docs, group_index = [], []\n",
    "for c, category in enumerate(categories):\n",
    "    if c % 10 == 0: print(f\"Loading group {c+1} out of {len(categories)}\")\n",
    "    posts_training = [\n",
    "        os.path.join(\n",
    "            training_path, category, c) for c in os.listdir(\n",
    "                os.path.join(training_path, category)) if os.path.isfile(\n",
    "                    os.path.join(training_path, category, c))\n",
    "    ]\n",
    "    posts_test = [\n",
    "        os.path.join(\n",
    "            test_path, category, c) for c in os.listdir(\n",
    "                os.path.join(test_path, category)) if os.path.isfile(\n",
    "                    os.path.join(test_path, category, c))\n",
    "    ]\n",
    "    posts = posts_training + posts_test\n",
    "    for post in posts:\n",
    "        idx = post.split('/')[-1]\n",
    "        if idx not in group_index:\n",
    "            group_index.append(idx)\n",
    "            with open(post, \"r\", encoding=\"utf-16\") as file:\n",
    "                buffer = file.read()\n",
    "                buffer = re.sub(r\"[^\\x00-\\x7f]\",r\"\", buffer)\n",
    "                docs.append(buffer)"
   ]
  },
  {
   "cell_type": "code",
   "execution_count": null,
   "metadata": {},
   "outputs": [],
   "source": []
  }
 ],
 "metadata": {
  "interpreter": {
   "hash": "71b60de1cb9cc845774b520e20656b0e9e31dcd2e290a4a9fb6228121db86503"
  },
  "kernelspec": {
   "display_name": "Python 3.8 - AzureML",
   "language": "python",
   "name": "python38-azureml"
  },
  "language_info": {
   "codemirror_mode": {
    "name": "ipython",
    "version": 3
   },
   "file_extension": ".py",
   "mimetype": "text/x-python",
   "name": "python",
   "nbconvert_exporter": "python",
   "pygments_lexer": "ipython3",
   "version": "3.8.1"
  },
  "orig_nbformat": 4
 },
 "nbformat": 4,
 "nbformat_minor": 2
}
